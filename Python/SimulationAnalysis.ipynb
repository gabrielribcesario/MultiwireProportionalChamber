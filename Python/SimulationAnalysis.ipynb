{
 "cells": [
  {
   "cell_type": "code",
   "execution_count": 1,
   "metadata": {},
   "outputs": [],
   "source": [
    "import numpy as np\n",
    "import ROOT\n",
    "import os"
   ]
  },
  {
   "cell_type": "code",
   "execution_count": 2,
   "metadata": {},
   "outputs": [],
   "source": [
    "ROOT.gInterpreter.AddIncludePath(\"../include\")"
   ]
  },
  {
   "cell_type": "code",
   "execution_count": 3,
   "metadata": {},
   "outputs": [
    {
     "data": {
      "text/plain": [
       "True"
      ]
     },
     "execution_count": 3,
     "metadata": {},
     "output_type": "execute_result"
    }
   ],
   "source": [
    "ROOT.gInterpreter.Declare(\n",
    "\"\"\"\n",
    "#include <ROOT/RVec.hxx>\n",
    "#include \"CustomContainers.hh\"\n",
    "\"\"\"\n",
    ")"
   ]
  },
  {
   "cell_type": "code",
   "execution_count": 4,
   "metadata": {},
   "outputs": [],
   "source": [
    "ROOT.gStyle.SetOptFit()"
   ]
  },
  {
   "cell_type": "code",
   "execution_count": 5,
   "metadata": {},
   "outputs": [],
   "source": [
    "loadedLib = ROOT.gSystem.Load(\"../lib/libCustomContainers.so\")\n",
    "\n",
    "# Unsuccessful library load.\n",
    "if loadedLib < 0:\n",
    "    raise ImportError(f\"System flag is: {loadedLib}\")"
   ]
  },
  {
   "cell_type": "code",
   "execution_count": 6,
   "metadata": {},
   "outputs": [],
   "source": [
    "os.chdir(\"../build/SimulationResults\")"
   ]
  },
  {
   "cell_type": "code",
   "execution_count": 7,
   "metadata": {},
   "outputs": [],
   "source": [
    "fileName = \"SimulationOutput.root\""
   ]
  },
  {
   "cell_type": "code",
   "execution_count": 8,
   "metadata": {},
   "outputs": [],
   "source": [
    "simulationFile = ROOT.TFile(fileName)"
   ]
  },
  {
   "cell_type": "code",
   "execution_count": 9,
   "metadata": {},
   "outputs": [
    {
     "name": "stdout",
     "output_type": "stream",
     "text": [
      "DriftData\n",
      "PhotonConversion\n"
     ]
    }
   ],
   "source": [
    "for key in simulationFile.GetListOfKeys():\n",
    "    print(key.GetName())"
   ]
  },
  {
   "cell_type": "markdown",
   "metadata": {},
   "source": [
    "# Fe-55 Spectrum"
   ]
  },
  {
   "cell_type": "code",
   "execution_count": 10,
   "metadata": {},
   "outputs": [],
   "source": [
    "specHist = simulationFile.Get(\"PhotonConversion\")"
   ]
  },
  {
   "cell_type": "code",
   "execution_count": 11,
   "metadata": {},
   "outputs": [
    {
     "data": {
      "image/png": "[encoded data removed]",
      "text/plain": [
       "<IPython.core.display.Image object>"
      ]
     },
     "metadata": {},
     "output_type": "display_data"
    }
   ],
   "source": [
    "specCanvas = ROOT.TCanvas()\n",
    "\n",
    "specHist.Draw()\n",
    "specCanvas.Draw()"
   ]
  },
  {
   "cell_type": "markdown",
   "metadata": {},
   "source": [
    "# Detector properties"
   ]
  },
  {
   "cell_type": "code",
   "execution_count": 12,
   "metadata": {},
   "outputs": [],
   "source": [
    "def get_range(arr, iqr=False):\n",
    "    if iqr:\n",
    "        quantiles = np.quantile(arr, [0.25, 0.75])\n",
    "        iqr = quantiles[1] - quantiles[0]\n",
    "        range_ = (quantiles[0] - 1.5 * iqr, quantiles[1] + 1.5 * iqr)\n",
    "    else:\n",
    "        range_ = (arr.min(), arr.max())\n",
    "    return range_"
   ]
  },
  {
   "cell_type": "code",
   "execution_count": 13,
   "metadata": {},
   "outputs": [],
   "source": [
    "driftDataframe = ROOT.RDataFrame(\"DriftData\", fileName)"
   ]
  },
  {
   "cell_type": "code",
   "execution_count": 14,
   "metadata": {},
   "outputs": [
    {
     "data": {
      "text/plain": [
       "Dataframe from TChain DriftData in file SimulationOutput.root\n",
       "\n",
       "Property                Value\n",
       "--------                -----\n",
       "Columns in total           20\n",
       "Columns from defines        0\n",
       "Event loops run             0\n",
       "Processing slots            1\n",
       "\n",
       "Column                  Type                            Origin\n",
       "------                  ----                            ------\n",
       "ArrivalTimeSpread       Double_t                        Dataset\n",
       "Endpoint                CustomContainer::Position4D     Dataset\n",
       "Endpoint.t              Double_t                        Dataset\n",
       "Endpoint.x              Double_t                        Dataset\n",
       "Endpoint.y              Double_t                        Dataset\n",
       "Endpoint.z              Double_t                        Dataset\n",
       "Gain                    Double_t                        Dataset\n",
       "InitialPoint            CustomContainer::Position4D     Dataset\n",
       "InitialPoint.t          Double_t                        Dataset\n",
       "InitialPoint.x          Double_t                        Dataset\n",
       "InitialPoint.y          Double_t                        Dataset\n",
       "InitialPoint.z          Double_t                        Dataset\n",
       "Loss                    Double_t                        Dataset\n",
       "SizeElectrons           Double_t                        Dataset\n",
       "SizeIons                Double_t                        Dataset\n",
       "Status                  Int_t                           Dataset\n",
       "t                       Double_t                        Dataset\n",
       "x                       Double_t                        Dataset\n",
       "y                       Double_t                        Dataset\n",
       "z                       Double_t                        Dataset"
      ]
     },
     "execution_count": 14,
     "metadata": {},
     "output_type": "execute_result"
    }
   ],
   "source": [
    "driftDataframe.Describe()"
   ]
  },
  {
   "cell_type": "code",
   "execution_count": 15,
   "metadata": {},
   "outputs": [],
   "source": [
    "# Useful for filtering cases of exponential overflow caused by integration of the \n",
    "# Townsend coefficients, usually caused by a large integration accuracy.\n",
    "use_iqr = True"
   ]
  },
  {
   "cell_type": "code",
   "execution_count": 16,
   "metadata": {},
   "outputs": [
    {
     "data": {
      "image/png": "[encoded data removed]",
      "text/plain": [
       "<IPython.core.display.Image object>"
      ]
     },
     "metadata": {},
     "output_type": "display_data"
    }
   ],
   "source": [
    "gainArr = driftDataframe.AsNumpy([\"Gain\"])[\"Gain\"]\n",
    "\n",
    "range_ = get_range(gainArr, iqr=use_iqr)\n",
    "bin_edges = np.histogram_bin_edges(gainArr, bins=\"fd\", range=range_)\n",
    "n_bins = bin_edges.size - 1\n",
    "\n",
    "gainHist = driftDataframe.Histo1D((\"Gain\", \"Gain\", n_bins, bin_edges), \"Gain\")\n",
    "\n",
    "gainCanvas = ROOT.TCanvas()\n",
    "\n",
    "gainHist.Draw()\n",
    "gainCanvas.Draw()"
   ]
  },
  {
   "cell_type": "code",
   "execution_count": 17,
   "metadata": {},
   "outputs": [
    {
     "data": {
      "image/png": "[encoded data removed]",
      "text/plain": [
       "<IPython.core.display.Image object>"
      ]
     },
     "metadata": {},
     "output_type": "display_data"
    }
   ],
   "source": [
    "lossArr = driftDataframe.AsNumpy([\"Loss\"])[\"Loss\"]\n",
    "\n",
    "range_ = get_range(lossArr, iqr=use_iqr)\n",
    "bin_edges = np.histogram_bin_edges(lossArr, bins=\"fd\", range=range_)\n",
    "n_bins = bin_edges.size - 1\n",
    "\n",
    "lossHist = driftDataframe.Histo1D((\"Loss\", \"Loss\", n_bins, bin_edges), \"Loss\")\n",
    "\n",
    "lossCanvas = ROOT.TCanvas()\n",
    "\n",
    "lossHist.Draw()\n",
    "lossCanvas.Draw()"
   ]
  },
  {
   "cell_type": "code",
   "execution_count": 18,
   "metadata": {},
   "outputs": [
    {
     "name": "stdout",
     "output_type": "stream",
     "text": [
      "Multiplication at 2100V (Expected):   1.05e+04\n",
      "Multiplication at 2100V (Simulation): 1.32e+04\n",
      "\n",
      " FCN=11437.5 FROM MINOS     STATUS=SUCCESSFUL     20 CALLS         156 TOTAL\n",
      "                     EDM=1.54239e-07    STRATEGY= 1      ERROR MATRIX ACCURATE \n",
      "  EXT PARAMETER                                   STEP         FIRST   \n",
      "  NO.   NAME      VALUE            ERROR          SIZE      DERIVATIVE \n",
      "   1  Constant     2.46126e+03   7.63288e+00   1.09032e-02  -2.11924e-06\n",
      "   2  Mean         1.31557e+04   5.95649e-02   1.01692e-05   1.10630e-05\n",
      "   3  Sigma        2.35654e+01   4.41093e-02   4.41093e-02   1.98803e-03\n",
      "                               ERR DEF= 0.5\n"
     ]
    },
    {
     "data": {
      "image/png": "[encoded data removed]",
      "text/plain": [
       "<IPython.core.display.Image object>"
      ]
     },
     "metadata": {},
     "output_type": "display_data"
    }
   ],
   "source": [
    "eleArr = driftDataframe.AsNumpy([\"SizeElectrons\"])[\"SizeElectrons\"]\n",
    "\n",
    "range_ = get_range(eleArr, iqr=use_iqr)\n",
    "bin_edges = np.histogram_bin_edges(eleArr, bins=\"fd\", range=range_)\n",
    "n_bins = bin_edges.size - 1\n",
    "\n",
    "nEleHist = driftDataframe.Histo1D((\"Avalanche Electrons\", \"Avalanche Electrons\", n_bins, bin_edges), \"SizeElectrons\")\n",
    "\n",
    "nEleFit = nEleHist.Fit(\"gaus\", \"SMEL\")\n",
    "\n",
    "print(f\"Multiplication at 2100V (Expected):   1.05e+04\")\n",
    "print(f\"Multiplication at 2100V (Simulation): {nEleFit.Parameter(1):.3g}\")\n",
    "print()\n",
    "\n",
    "nEleCanvas = ROOT.TCanvas()\n",
    "\n",
    "nEleHist.Draw()\n",
    "nEleCanvas.Draw()"
   ]
  },
  {
   "cell_type": "code",
   "execution_count": 19,
   "metadata": {},
   "outputs": [
    {
     "data": {
      "image/png": "[encoded data removed]",
      "text/plain": [
       "<IPython.core.display.Image object>"
      ]
     },
     "metadata": {},
     "output_type": "display_data"
    }
   ],
   "source": [
    "ionArr = driftDataframe.AsNumpy([\"SizeIons\"])[\"SizeIons\"]\n",
    "\n",
    "range_ = get_range(ionArr, iqr=use_iqr)\n",
    "bin_edges = np.histogram_bin_edges(ionArr, bins=\"fd\", range=range_)\n",
    "n_bins = bin_edges.size - 1\n",
    "\n",
    "nIonHist = driftDataframe.Histo1D((\"Avalanche Ions\", \"Avalanche Ions\", n_bins, bin_edges), \"SizeIons\")\n",
    "\n",
    "nIonCanvas = ROOT.TCanvas()\n",
    "\n",
    "nIonHist.Draw()\n",
    "nIonCanvas.Draw()"
   ]
  },
  {
   "cell_type": "code",
   "execution_count": null,
   "metadata": {},
   "outputs": [],
   "source": []
  }
 ],
 "metadata": {
  "kernelspec": {
   "display_name": "Python 3",
   "language": "python",
   "name": "python3"
  },
  "language_info": {
   "codemirror_mode": {
    "name": "ipython",
    "version": 3
   },
   "file_extension": ".py",
   "mimetype": "text/x-python",
   "name": "python",
   "nbconvert_exporter": "python",
   "pygments_lexer": "ipython3",
   "version": "3.10.12"
  }
 },
 "nbformat": 4,
 "nbformat_minor": 2
}
