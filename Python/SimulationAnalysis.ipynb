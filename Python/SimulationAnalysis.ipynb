{
 "cells": [
  {
   "cell_type": "code",
   "execution_count": 1,
   "metadata": {},
   "outputs": [],
   "source": [
    "import numpy as np\n",
    "import ROOT\n",
    "import os"
   ]
  },
  {
   "cell_type": "code",
   "execution_count": 2,
   "metadata": {},
   "outputs": [],
   "source": [
    "ROOT.gInterpreter.AddIncludePath(\"../include\")"
   ]
  },
  {
   "cell_type": "code",
   "execution_count": null,
   "metadata": {},
   "outputs": [],
   "source": [
    "ROOT.gInterpreter.Declare(\n",
    "\"\"\"\n",
    "#include <ROOT/RVec.hxx>\n",
    "#include \"CustomContainers.hpp\"\n",
    "\"\"\"\n",
    ")"
   ]
  },
  {
   "cell_type": "code",
   "execution_count": 4,
   "metadata": {},
   "outputs": [],
   "source": [
    "ROOT.gStyle.SetOptFit()"
   ]
  },
  {
   "cell_type": "code",
   "execution_count": 5,
   "metadata": {},
   "outputs": [],
   "source": [
    "loadedLib = ROOT.gSystem.Load(\"../lib/libCustomContainers.so\")\n",
    "\n",
    "# Unsuccessful library load.\n",
    "if loadedLib < 0:\n",
    "    raise ImportError(f\"System flag is: {loadedLib}\")"
   ]
  },
  {
   "cell_type": "code",
   "execution_count": 6,
   "metadata": {},
   "outputs": [],
   "source": [
    "os.chdir(\"../build\")"
   ]
  },
  {
   "cell_type": "code",
   "execution_count": 7,
   "metadata": {},
   "outputs": [],
   "source": [
    "simulationFile = ROOT.TFile(\"SimulationResults.root\")"
   ]
  },
  {
   "cell_type": "code",
   "execution_count": null,
   "metadata": {},
   "outputs": [],
   "source": [
    "for key in simulationFile.GetListOfKeys():\n",
    "    print(key.GetName())"
   ]
  },
  {
   "cell_type": "markdown",
   "metadata": {},
   "source": [
    "# Fe-55 Spectrum"
   ]
  },
  {
   "cell_type": "code",
   "execution_count": 9,
   "metadata": {},
   "outputs": [],
   "source": [
    "specHist = simulationFile.Get(\"Electron-ion pairs\")"
   ]
  },
  {
   "cell_type": "code",
   "execution_count": null,
   "metadata": {},
   "outputs": [],
   "source": [
    "specCanvas = ROOT.TCanvas()\n",
    "\n",
    "specHist.Draw()\n",
    "specCanvas.Draw()"
   ]
  },
  {
   "cell_type": "markdown",
   "metadata": {},
   "source": [
    "# Detector properties"
   ]
  },
  {
   "cell_type": "code",
   "execution_count": 11,
   "metadata": {},
   "outputs": [],
   "source": [
    "driftDataframe = ROOT.RDataFrame(\"DriftLines\", \"SimulationResults.root\")"
   ]
  },
  {
   "cell_type": "code",
   "execution_count": null,
   "metadata": {},
   "outputs": [],
   "source": [
    "driftDataframe.Describe()"
   ]
  },
  {
   "cell_type": "code",
   "execution_count": null,
   "metadata": {},
   "outputs": [],
   "source": [
    "atsArr = driftDataframe.AsNumpy([\"ArrivalTimeSpread\"])[\"ArrivalTimeSpread\"]\n",
    "\n",
    "atsQuantiles = np.quantile(atsArr, [0.25, 0.75])\n",
    "atsIQR = atsQuantiles[1] - atsQuantiles[0]\n",
    "\n",
    "bin_edges = np.histogram_bin_edges(atsArr, bins=\"fd\", range=(atsQuantiles[0] - 1.5 * atsIQR, atsQuantiles[1] + 1.5 * atsIQR))\n",
    "n_bins = bin_edges.size - 1\n",
    "\n",
    "atsHist = driftDataframe.Histo1D((\"Arrival Time Spread [ns]\", \"Arrival Time Spread [ns]\", n_bins, bin_edges), \"ArrivalTimeSpread\")\n",
    "\n",
    "atsCanvas = ROOT.TCanvas()\n",
    "\n",
    "atsHist.Draw()\n",
    "atsCanvas.Draw()"
   ]
  },
  {
   "cell_type": "code",
   "execution_count": null,
   "metadata": {},
   "outputs": [],
   "source": [
    "gainArr = driftDataframe.AsNumpy([\"Gain\"])[\"Gain\"]\n",
    "\n",
    "gainQuantiles = np.quantile(gainArr, [0.25, 0.75])\n",
    "gainIQR = gainQuantiles[1] - gainQuantiles[0]\n",
    "\n",
    "bin_edges = np.histogram_bin_edges(gainArr, bins=\"fd\", range=(gainQuantiles[0] - 1.5 * gainIQR, gainQuantiles[1] + 1.5 * gainIQR))\n",
    "n_bins = bin_edges.size - 1\n",
    "\n",
    "gainHist = driftDataframe.Histo1D((\"Gain\", \"Gain\", n_bins, bin_edges), \"Gain\")\n",
    "\n",
    "gainCanvas = ROOT.TCanvas()\n",
    "\n",
    "gainHist.Draw()\n",
    "gainCanvas.Draw()"
   ]
  },
  {
   "cell_type": "code",
   "execution_count": null,
   "metadata": {},
   "outputs": [],
   "source": [
    "lossArr = driftDataframe.AsNumpy([\"Loss\"])[\"Loss\"]\n",
    "\n",
    "lossQuantiles = np.quantile(lossArr, [0.25, 0.75])\n",
    "lossIQR = lossQuantiles[1] - lossQuantiles[0]\n",
    "\n",
    "bin_edges = np.histogram_bin_edges(lossArr, bins=\"fd\", range=(lossQuantiles[0] - 1.5 * lossIQR, lossQuantiles[1] + 1.5 * lossIQR))\n",
    "n_bins = bin_edges.size - 1\n",
    "\n",
    "lossHist = driftDataframe.Histo1D((\"Loss\", \"Loss\", n_bins, bin_edges), \"Loss\")\n",
    "\n",
    "lossHist.Fit(\"landau\", \"ME\")\n",
    "\n",
    "lossCanvas = ROOT.TCanvas()\n",
    "\n",
    "lossHist.Draw()\n",
    "lossCanvas.Draw()"
   ]
  },
  {
   "cell_type": "code",
   "execution_count": null,
   "metadata": {},
   "outputs": [],
   "source": [
    "eleArr = driftDataframe.AsNumpy([\"SizeElectrons\"])[\"SizeElectrons\"]\n",
    "\n",
    "eleQuantiles = np.quantile(eleArr, [0.25, 0.75])\n",
    "eleIQR = eleQuantiles[1] - eleQuantiles[0]\n",
    "\n",
    "bin_edges = np.histogram_bin_edges(eleArr, bins=\"fd\", range=(eleQuantiles[0] - 1.5 * eleIQR, eleQuantiles[1] + 1.5 * eleIQR))\n",
    "n_bins = bin_edges.size - 1\n",
    "\n",
    "nEleHist = driftDataframe.Histo1D((\"Avalanche Electrons\", \"Avalanche Electrons\", n_bins, bin_edges), \"SizeElectrons\")\n",
    "\n",
    "nEleHist.Fit(\"gaus\", \"ME\")\n",
    "\n",
    "nEleCanvas = ROOT.TCanvas()\n",
    "\n",
    "nEleHist.Draw()\n",
    "nEleCanvas.Draw()"
   ]
  },
  {
   "cell_type": "code",
   "execution_count": null,
   "metadata": {},
   "outputs": [],
   "source": [
    "ionArr = driftDataframe.AsNumpy([\"SizeIons\"])[\"SizeIons\"]\n",
    "\n",
    "ionQuantiles = np.quantile(ionArr, [0.25, 0.75])\n",
    "ionIQR = ionQuantiles[1] - ionQuantiles[0]\n",
    "\n",
    "bin_edges = np.histogram_bin_edges(ionArr, bins=\"fd\", range=(ionQuantiles[0] - 1.5 * ionIQR, ionQuantiles[1] + 1.5 * ionIQR))\n",
    "n_bins = bin_edges.size - 1\n",
    "\n",
    "nIonHist = driftDataframe.Histo1D((\"Avalanche Ions\", \"Avalanche Ions\", n_bins, bin_edges), \"SizeIons\")\n",
    "\n",
    "nIonHist.Fit(\"gaus\", \"ME\")\n",
    "\n",
    "nIonCanvas = ROOT.TCanvas()\n",
    "\n",
    "nIonHist.Draw()\n",
    "nIonCanvas.Draw()"
   ]
  },
  {
   "cell_type": "code",
   "execution_count": null,
   "metadata": {},
   "outputs": [],
   "source": []
  }
 ],
 "metadata": {
  "kernelspec": {
   "display_name": "Python 3",
   "language": "python",
   "name": "python3"
  },
  "language_info": {
   "codemirror_mode": {
    "name": "ipython",
    "version": 3
   },
   "file_extension": ".py",
   "mimetype": "text/x-python",
   "name": "python",
   "nbconvert_exporter": "python",
   "pygments_lexer": "ipython3",
   "version": "3.10.12"
  }
 },
 "nbformat": 4,
 "nbformat_minor": 2
}
